{
  "metadata": {
    "language_info": {
      "codemirror_mode": {
        "name": "python",
        "version": 3
      },
      "file_extension": ".py",
      "mimetype": "text/x-python",
      "name": "python",
      "nbconvert_exporter": "python",
      "pygments_lexer": "ipython3",
      "version": "3.8"
    },
    "kernelspec": {
      "name": "python",
      "display_name": "Python (Pyodide)",
      "language": "python"
    }
  },
  "nbformat_minor": 4,
  "nbformat": 4,
  "cells": [
    {
      "cell_type": "markdown",
      "source": "# My Jupyter Notebook on IBM Watson Studio\n",
      "metadata": {}
    },
    {
      "cell_type": "markdown",
      "source": "# **Ahmad Kura** <br> I would like to be a data scientist  ",
      "metadata": {}
    },
    {
      "cell_type": "markdown",
      "source": "# *I am interested in data science because I having the passion for it and believe it would be a good career choice. I do want to be a data scientist because it enjoy playing and manipulating data and numbers.*",
      "metadata": {}
    },
    {
      "cell_type": "markdown",
      "source": "# ***My code is supposed to calculate the sum of two numbers***",
      "metadata": {
        "tags": []
      }
    },
    {
      "cell_type": "code",
      "source": "3+5",
      "metadata": {
        "trusted": true
      },
      "execution_count": 2,
      "outputs": [
        {
          "execution_count": 2,
          "output_type": "execute_result",
          "data": {
            "text/plain": "8"
          },
          "metadata": {}
        }
      ]
    },
    {
      "cell_type": "markdown",
      "source": " ***\n *  \n *\n1. Item one\n1. Item two\n\n| Name | Age | Occupation |\n| ---- | ----| ----|\n| Ola  | 28  | Accountant\n| Musa | 27  | Pol\n| Obi  | 26 |",
      "metadata": {}
    },
    {
      "cell_type": "code",
      "source": "",
      "metadata": {},
      "execution_count": null,
      "outputs": []
    }
  ]
}